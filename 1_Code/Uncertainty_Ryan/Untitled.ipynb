{
 "cells": [
  {
   "cell_type": "code",
   "execution_count": 1,
   "id": "38fe7db2",
   "metadata": {},
   "outputs": [
    {
     "data": {
      "text/html": [
       "<div>\n",
       "<style scoped>\n",
       "    .dataframe tbody tr th:only-of-type {\n",
       "        vertical-align: middle;\n",
       "    }\n",
       "\n",
       "    .dataframe tbody tr th {\n",
       "        vertical-align: top;\n",
       "    }\n",
       "\n",
       "    .dataframe thead th {\n",
       "        text-align: right;\n",
       "    }\n",
       "</style>\n",
       "<table border=\"1\" class=\"dataframe\">\n",
       "  <thead>\n",
       "    <tr style=\"text-align: right;\">\n",
       "      <th></th>\n",
       "      <th>Unnamed: 0</th>\n",
       "      <th>0</th>\n",
       "      <th>1</th>\n",
       "      <th>2</th>\n",
       "      <th>3</th>\n",
       "      <th>4</th>\n",
       "    </tr>\n",
       "  </thead>\n",
       "  <tbody>\n",
       "    <tr>\n",
       "      <th>0</th>\n",
       "      <td>y_test</td>\n",
       "      <td>[531.1979980000001, 495.8690796, 474.396911600...</td>\n",
       "      <td>[489.28225710000004, 494.6255798, 499.3803101,...</td>\n",
       "      <td>[563.8005981000001, 560.5308227999999, 514.293...</td>\n",
       "      <td>[538.2351685, 501.2728882, 492.30160520000004,...</td>\n",
       "      <td>[550.4916382, 545.7082519999999, 495.682800300...</td>\n",
       "    </tr>\n",
       "    <tr>\n",
       "      <th>1</th>\n",
       "      <td>y_pred</td>\n",
       "      <td>[522.612305130337, 491.37570766032724, 488.396...</td>\n",
       "      <td>[506.3726088491137, 500.91562794705646, 497.24...</td>\n",
       "      <td>[572.6797306465103, 540.8475471573237, 520.461...</td>\n",
       "      <td>[538.4335794522033, 511.05711399089637, 496.86...</td>\n",
       "      <td>[574.29993514623, 547.0288188880681, 486.94971...</td>\n",
       "    </tr>\n",
       "    <tr>\n",
       "      <th>2</th>\n",
       "      <td>r2</td>\n",
       "      <td>0.9875679531687106</td>\n",
       "      <td>0.9861544465094749</td>\n",
       "      <td>0.986476569083052</td>\n",
       "      <td>0.9867228128378366</td>\n",
       "      <td>0.9868793406293664</td>\n",
       "    </tr>\n",
       "    <tr>\n",
       "      <th>3</th>\n",
       "      <td>mae</td>\n",
       "      <td>10.60878106204045</td>\n",
       "      <td>10.832489421901359</td>\n",
       "      <td>10.755260982522493</td>\n",
       "      <td>10.73438498358088</td>\n",
       "      <td>10.696462814518622</td>\n",
       "    </tr>\n",
       "    <tr>\n",
       "      <th>4</th>\n",
       "      <td>rmse</td>\n",
       "      <td>20.13421292527321</td>\n",
       "      <td>21.095948783079933</td>\n",
       "      <td>20.92628200641179</td>\n",
       "      <td>20.70069378498436</td>\n",
       "      <td>20.60802628555187</td>\n",
       "    </tr>\n",
       "    <tr>\n",
       "      <th>5</th>\n",
       "      <td>rmse_std</td>\n",
       "      <td>0.11149908892582677</td>\n",
       "      <td>0.11766713003436875</td>\n",
       "      <td>0.11629028728551655</td>\n",
       "      <td>0.115226677302452</td>\n",
       "      <td>0.11454544674771482</td>\n",
       "    </tr>\n",
       "    <tr>\n",
       "      <th>6</th>\n",
       "      <td>ebars</td>\n",
       "      <td>[4.121801174551697, 2.5151170352692565, 14.982...</td>\n",
       "      <td>[0.39863636954638093, 1.164718101338828, 3.532...</td>\n",
       "      <td>[2.846754925546534, 20.907065902377205, 11.147...</td>\n",
       "      <td>[23.230632379444902, 1.744413364960724, 2.2821...</td>\n",
       "      <td>[1.6471112362765465, 1.5474139876142894, 3.591...</td>\n",
       "    </tr>\n",
       "  </tbody>\n",
       "</table>\n",
       "</div>"
      ],
      "text/plain": [
       "  Unnamed: 0                                                  0  \\\n",
       "0     y_test  [531.1979980000001, 495.8690796, 474.396911600...   \n",
       "1     y_pred  [522.612305130337, 491.37570766032724, 488.396...   \n",
       "2         r2                                 0.9875679531687106   \n",
       "3        mae                                  10.60878106204045   \n",
       "4       rmse                                  20.13421292527321   \n",
       "5   rmse_std                                0.11149908892582677   \n",
       "6      ebars  [4.121801174551697, 2.5151170352692565, 14.982...   \n",
       "\n",
       "                                                   1  \\\n",
       "0  [489.28225710000004, 494.6255798, 499.3803101,...   \n",
       "1  [506.3726088491137, 500.91562794705646, 497.24...   \n",
       "2                                 0.9861544465094749   \n",
       "3                                 10.832489421901359   \n",
       "4                                 21.095948783079933   \n",
       "5                                0.11766713003436875   \n",
       "6  [0.39863636954638093, 1.164718101338828, 3.532...   \n",
       "\n",
       "                                                   2  \\\n",
       "0  [563.8005981000001, 560.5308227999999, 514.293...   \n",
       "1  [572.6797306465103, 540.8475471573237, 520.461...   \n",
       "2                                  0.986476569083052   \n",
       "3                                 10.755260982522493   \n",
       "4                                  20.92628200641179   \n",
       "5                                0.11629028728551655   \n",
       "6  [2.846754925546534, 20.907065902377205, 11.147...   \n",
       "\n",
       "                                                   3  \\\n",
       "0  [538.2351685, 501.2728882, 492.30160520000004,...   \n",
       "1  [538.4335794522033, 511.05711399089637, 496.86...   \n",
       "2                                 0.9867228128378366   \n",
       "3                                  10.73438498358088   \n",
       "4                                  20.70069378498436   \n",
       "5                                  0.115226677302452   \n",
       "6  [23.230632379444902, 1.744413364960724, 2.2821...   \n",
       "\n",
       "                                                   4  \n",
       "0  [550.4916382, 545.7082519999999, 495.682800300...  \n",
       "1  [574.29993514623, 547.0288188880681, 486.94971...  \n",
       "2                                 0.9868793406293664  \n",
       "3                                 10.696462814518622  \n",
       "4                                  20.60802628555187  \n",
       "5                                0.11454544674771482  \n",
       "6  [1.6471112362765465, 1.5474139876142894, 3.591...  "
      ]
     },
     "execution_count": 1,
     "metadata": {},
     "output_type": "execute_result"
    }
   ],
   "source": [
    "import pandas as pd\n",
    "\n",
    "df = pd.read_csv('Greenland_data_output_fold_4.csv')\n",
    "\n"
   ]
  },
  {
   "cell_type": "code",
   "execution_count": 41,
   "id": "e24584b3",
   "metadata": {},
   "outputs": [],
   "source": [
    "from ast import literal_eval\n",
    "import numpy as np\n",
    "\n",
    "yt1 = literal_eval(df.loc[0][1])\n",
    "yt2 = literal_eval(df.loc[0][2])\n",
    "yt3 = literal_eval(df.loc[0][3])\n",
    "yt4 = literal_eval(df.loc[0][4])\n",
    "yt5 = literal_eval(df.loc[0][5])\n",
    "yt = np.concatenate([yt1, yt2, yt3, yt4, yt5])\n",
    "\n",
    "yp1 = literal_eval(df.loc[1][1])\n",
    "yp2 = literal_eval(df.loc[1][2])\n",
    "yp3 = literal_eval(df.loc[1][3])\n",
    "yp4 = literal_eval(df.loc[1][4])\n",
    "yp5 = literal_eval(df.loc[1][5])\n",
    "yp = np.concatenate([yp1, yp2, yp3, yp4, yp5])\n",
    "\n",
    "e1 = literal_eval(df.loc[6][1])\n",
    "e2 = literal_eval(df.loc[6][2])\n",
    "e3 = literal_eval(df.loc[6][3])\n",
    "e4 = literal_eval(df.loc[6][4])\n",
    "e5 = literal_eval(df.loc[6][5])\n",
    "err = np.concatenate([e1, e2, e3, e4, e5])"
   ]
  },
  {
   "cell_type": "code",
   "execution_count": 42,
   "id": "15a5f9e4",
   "metadata": {},
   "outputs": [],
   "source": [
    "from mastml.plots import Scatter, Error\n",
    "import os"
   ]
  },
  {
   "cell_type": "code",
   "execution_count": 30,
   "id": "c418cdd1",
   "metadata": {},
   "outputs": [],
   "source": [
    "Scatter().plot_predicted_vs_true(yt, yp, savepath=os.getcwd(), data_type='test', x_label='track_bed_target')"
   ]
  },
  {
   "cell_type": "code",
   "execution_count": 31,
   "id": "cbc9b37e",
   "metadata": {},
   "outputs": [],
   "source": [
    "rmses = df.loc[4]"
   ]
  },
  {
   "cell_type": "code",
   "execution_count": 36,
   "id": "2ca9e92e",
   "metadata": {},
   "outputs": [
    {
     "name": "stdout",
     "output_type": "stream",
     "text": [
      "20.69303275706023 0.32750906316992345\n"
     ]
    }
   ],
   "source": [
    "rmses = [20.13421292527321, 21.095948783079933, 20.92628200641179, 20.70069378498436, 20.60802628555187]\n",
    "\n",
    "print(np.mean(rmses), np.std(rmses))"
   ]
  },
  {
   "cell_type": "code",
   "execution_count": 44,
   "id": "0b1cc976",
   "metadata": {},
   "outputs": [
    {
     "name": "stdout",
     "output_type": "stream",
     "text": [
      "linear-tree is an optional dependency, enabling use of Linear tree, forest, and boosting models. If you want to use this model, do \"pip install linear-tree\"\n",
      "BIN WIDTH\n",
      "0.24202607747838187\n"
     ]
    }
   ],
   "source": [
    "from mastml.models import SklearnModel\n",
    "\n",
    "model = SklearnModel('RandomForestRegressor')\n",
    "\n",
    "res = yt - yp\n",
    "\n",
    "Error().plot_real_vs_predicted_error(savepath=os.getcwd(),\n",
    "                                     model=model,\n",
    "                                     data_type='test',\n",
    "                                     model_errors=err,\n",
    "                                     residuals=res,\n",
    "                                     dataset_stdev=np.std(yt))"
   ]
  },
  {
   "cell_type": "code",
   "execution_count": 46,
   "id": "031be868",
   "metadata": {},
   "outputs": [
    {
     "data": {
      "text/plain": [
       "126542"
      ]
     },
     "execution_count": 46,
     "metadata": {},
     "output_type": "execute_result"
    }
   ],
   "source": [
    "len(yt1)"
   ]
  },
  {
   "cell_type": "code",
   "execution_count": null,
   "id": "4cf85c31",
   "metadata": {},
   "outputs": [],
   "source": []
  }
 ],
 "metadata": {
  "kernelspec": {
   "display_name": "Python 3 (ipykernel)",
   "language": "python",
   "name": "python3"
  },
  "language_info": {
   "codemirror_mode": {
    "name": "ipython",
    "version": 3
   },
   "file_extension": ".py",
   "mimetype": "text/x-python",
   "name": "python",
   "nbconvert_exporter": "python",
   "pygments_lexer": "ipython3",
   "version": "3.8.15"
  }
 },
 "nbformat": 4,
 "nbformat_minor": 5
}
