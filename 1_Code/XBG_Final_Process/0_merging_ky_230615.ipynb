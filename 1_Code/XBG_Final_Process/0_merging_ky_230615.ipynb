{
  "nbformat": 4,
  "nbformat_minor": 0,
  "metadata": {
    "colab": {
      "provenance": []
    },
    "kernelspec": {
      "name": "python3",
      "display_name": "Python 3"
    },
    "language_info": {
      "name": "python"
    }
  },
  "cells": [
    {
      "cell_type": "markdown",
      "source": [
        "# Merging Data"
      ],
      "metadata": {
        "id": "X4iQIIdEOAIb"
      }
    },
    {
      "cell_type": "code",
      "execution_count": null,
      "metadata": {
        "colab": {
          "base_uri": "https://localhost:8080/"
        },
        "id": "zjH0SSaYNzlq",
        "outputId": "9a4b6cff-fcae-4c75-a6ea-5511ac7c7407"
      },
      "outputs": [
        {
          "output_type": "stream",
          "name": "stdout",
          "text": [
            "Mounted at /content/gdrive\n"
          ]
        }
      ],
      "source": [
        "#google connect\n",
        "from google.colab import drive\n",
        "drive.mount('/content/gdrive')"
      ]
    },
    {
      "cell_type": "code",
      "source": [
        "#imports\n",
        "import pandas as  pd"
      ],
      "metadata": {
        "id": "_WBnp50BN-62"
      },
      "execution_count": null,
      "outputs": []
    },
    {
      "cell_type": "code",
      "source": [
        "#paths\n",
        "mainPath = \"/content/gdrive/MyDrive/REU 2023 Team 1: Ice Bed Topography Prediction/Research/Yi_Work/Final Process/0_Data/\"\n",
        "train_ = mainPath + \"train.csv\"\n",
        "y_test_ = mainPath + \"y_test.csv\"\n",
        "x_test_ = mainPath + \"test.csv\"\n"
      ],
      "metadata": {
        "id": "kiJb0S4hN-9h"
      },
      "execution_count": null,
      "outputs": []
    },
    {
      "cell_type": "code",
      "source": [
        "#read in\n",
        "#read in the data\n",
        "train = pd.read_csv(train_)\n",
        "y_test = pd.read_csv(y_test_)\n",
        "x_test = pd.read_csv(x_test_)"
      ],
      "metadata": {
        "id": "qgX_BGgcN-__"
      },
      "execution_count": null,
      "outputs": []
    },
    {
      "cell_type": "code",
      "source": [
        "#merge y_test and x_test\n",
        "test_data = x_test.join(y_test, how = \"outer\")"
      ],
      "metadata": {
        "id": "vMKjjK2AN_Ct"
      },
      "execution_count": null,
      "outputs": []
    },
    {
      "cell_type": "code",
      "source": [
        "csvOutpath = mainPath + \"test_full.csv\""
      ],
      "metadata": {
        "id": "Lhuql4_JQnQh"
      },
      "execution_count": null,
      "outputs": []
    },
    {
      "cell_type": "code",
      "source": [
        "#export the test file\n",
        "test_data.to_csv(csvOutpath)"
      ],
      "metadata": {
        "id": "UFhYif6nOcTz"
      },
      "execution_count": null,
      "outputs": []
    },
    {
      "cell_type": "code",
      "source": [
        "#merge entire dataset\n",
        "data_full_known = pd.concat([train, test_data])"
      ],
      "metadata": {
        "id": "2XM7VBHmOck6"
      },
      "execution_count": null,
      "outputs": []
    },
    {
      "cell_type": "code",
      "source": [
        "#export full known dataset\n",
        "csvOutpathFullData = mainPath + \"data_full.csv\"\n",
        "\n",
        "data_full_known.to_csv(csvOutpathFullData)"
      ],
      "metadata": {
        "id": "iI62JjANOcof"
      },
      "execution_count": null,
      "outputs": []
    }
  ]
}