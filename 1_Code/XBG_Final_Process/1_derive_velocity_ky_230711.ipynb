{
  "nbformat": 4,
  "nbformat_minor": 0,
  "metadata": {
    "colab": {
      "provenance": []
    },
    "kernelspec": {
      "name": "python3",
      "display_name": "Python 3"
    },
    "language_info": {
      "name": "python"
    }
  },
  "cells": [
    {
      "cell_type": "markdown",
      "source": [
        "# Derive Velocity Magnitude"
      ],
      "metadata": {
        "id": "mMpCOqq2obXv"
      }
    },
    {
      "cell_type": "code",
      "source": [
        "from google.colab import drive\n",
        "drive.mount('/content/gdrive')\n",
        "import sys"
      ],
      "metadata": {
        "colab": {
          "base_uri": "https://localhost:8080/"
        },
        "id": "Fo9XP-Vbohm9",
        "outputId": "3faee1cd-bc76-4bbf-f143-feb8630aa72a"
      },
      "execution_count": null,
      "outputs": [
        {
          "output_type": "stream",
          "name": "stdout",
          "text": [
            "Mounted at /content/gdrive\n"
          ]
        }
      ]
    },
    {
      "cell_type": "code",
      "execution_count": null,
      "metadata": {
        "id": "rLpjJZtxoY4v"
      },
      "outputs": [],
      "source": [
        "import pandas as pd\n",
        "import numpy as np"
      ]
    },
    {
      "cell_type": "code",
      "source": [
        "#paths\n",
        "mainPath = '/content/gdrive/MyDrive/REU 2023 Team 1: Ice Bed Topography Prediction/Research/Yi_Work/Final Process/0_Data/'\n",
        "\n",
        "data_full_ = mainPath + 'data_full.csv' #training and test combined\n",
        "data_1201_ = mainPath + 'df_1201_validation_data.csv'"
      ],
      "metadata": {
        "id": "BlpFa2JWohpZ"
      },
      "execution_count": null,
      "outputs": []
    },
    {
      "cell_type": "code",
      "source": [
        "data_full = pd.read_csv(data_full_)\n",
        "d1201 = pd.read_csv(data_1201_)"
      ],
      "metadata": {
        "id": "4iKCp6Zbohrk"
      },
      "execution_count": null,
      "outputs": []
    },
    {
      "cell_type": "code",
      "source": [
        "print(len(data_full))"
      ],
      "metadata": {
        "colab": {
          "base_uri": "https://localhost:8080/"
        },
        "id": "SbKV96rcKRjd",
        "outputId": "420e7460-b752-4084-d066-511413a4bfa2"
      },
      "execution_count": null,
      "outputs": [
        {
          "output_type": "stream",
          "name": "stdout",
          "text": [
            "632706\n"
          ]
        }
      ]
    },
    {
      "cell_type": "code",
      "source": [
        "data_full['v_mag'] = np.sqrt(data_full['surf_vx']**2 + data_full['surf_vy']**2)"
      ],
      "metadata": {
        "id": "xsSc8-Y3ohtx"
      },
      "execution_count": null,
      "outputs": []
    },
    {
      "cell_type": "code",
      "source": [
        "d1201['v_mag'] = np.sqrt(d1201['surf_vx']**2 + d1201['surf_vy']**2)"
      ],
      "metadata": {
        "id": "Hr-FkeAdrWwe"
      },
      "execution_count": null,
      "outputs": []
    },
    {
      "cell_type": "code",
      "source": [
        "data_full.to_csv(mainPath+\"data_full_vMag.csv\")"
      ],
      "metadata": {
        "id": "1O6RaDRor2Xo"
      },
      "execution_count": null,
      "outputs": []
    },
    {
      "cell_type": "code",
      "source": [
        "d1201.to_csv(mainPath+\"d1201_vMag.csv\")"
      ],
      "metadata": {
        "id": "HaAg7sKYr2i4"
      },
      "execution_count": null,
      "outputs": []
    }
  ]
}